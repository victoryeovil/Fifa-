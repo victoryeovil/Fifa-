{
  "cells": [
    {
      "cell_type": "markdown",
      "metadata": {
        "id": "view-in-github",
        "colab_type": "text"
      },
      "source": [
        "<a href=\"https://colab.research.google.com/github/victoryeovil/Fifa-/blob/master/UmojaHack.ipynb\" target=\"_parent\"><img src=\"https://colab.research.google.com/assets/colab-badge.svg\" alt=\"Open In Colab\"/></a>"
      ]
    },
    {
      "cell_type": "code",
      "execution_count": null,
      "id": "16152357",
      "metadata": {
        "id": "16152357"
      },
      "outputs": [],
      "source": [
        "import pandas as pd"
      ]
    },
    {
      "cell_type": "code",
      "execution_count": null,
      "id": "05231c76",
      "metadata": {
        "id": "05231c76"
      },
      "outputs": [],
      "source": [
        "df_train = pd.read_csv('Train.csv')\n",
        "test = pd.read_csv('Test.csv')"
      ]
    },
    {
      "cell_type": "code",
      "execution_count": null,
      "id": "8902a2e1",
      "metadata": {
        "id": "8902a2e1",
        "outputId": "c1941195-b7d7-4091-9f22-921c92597c25"
      },
      "outputs": [
        {
          "data": {
            "text/html": [
              "<div>\n",
              "<style scoped>\n",
              "    .dataframe tbody tr th:only-of-type {\n",
              "        vertical-align: middle;\n",
              "    }\n",
              "\n",
              "    .dataframe tbody tr th {\n",
              "        vertical-align: top;\n",
              "    }\n",
              "\n",
              "    .dataframe thead th {\n",
              "        text-align: right;\n",
              "    }\n",
              "</style>\n",
              "<table border=\"1\" class=\"dataframe\">\n",
              "  <thead>\n",
              "    <tr style=\"text-align: right;\">\n",
              "      <th></th>\n",
              "      <th>ID</th>\n",
              "      <th>country</th>\n",
              "      <th>year</th>\n",
              "      <th>urban_or_rural</th>\n",
              "      <th>ghsl_water_surface</th>\n",
              "      <th>ghsl_built_pre_1975</th>\n",
              "      <th>ghsl_built_1975_to_1990</th>\n",
              "      <th>ghsl_built_1990_to_2000</th>\n",
              "      <th>ghsl_built_2000_to_2014</th>\n",
              "      <th>ghsl_not_built_up</th>\n",
              "      <th>ghsl_pop_density</th>\n",
              "      <th>landcover_crops_fraction</th>\n",
              "      <th>landcover_urban_fraction</th>\n",
              "      <th>landcover_water_permanent_10km_fraction</th>\n",
              "      <th>landcover_water_seasonal_10km_fraction</th>\n",
              "      <th>nighttime_lights</th>\n",
              "      <th>dist_to_capital</th>\n",
              "      <th>dist_to_shoreline</th>\n",
              "      <th>Target</th>\n",
              "    </tr>\n",
              "  </thead>\n",
              "  <tbody>\n",
              "    <tr>\n",
              "      <th>0</th>\n",
              "      <td>ID_AAIethGy</td>\n",
              "      <td>Ethiopia</td>\n",
              "      <td>2016</td>\n",
              "      <td>R</td>\n",
              "      <td>0.0</td>\n",
              "      <td>0.000000</td>\n",
              "      <td>0.000000</td>\n",
              "      <td>0.000055</td>\n",
              "      <td>0.000536</td>\n",
              "      <td>0.999408</td>\n",
              "      <td>12.146134</td>\n",
              "      <td>25.489659</td>\n",
              "      <td>0.879484</td>\n",
              "      <td>0.000000</td>\n",
              "      <td>0.000000</td>\n",
              "      <td>0.000000</td>\n",
              "      <td>278.788451</td>\n",
              "      <td>769.338378</td>\n",
              "      <td>0.132783</td>\n",
              "    </tr>\n",
              "    <tr>\n",
              "      <th>1</th>\n",
              "      <td>ID_AAYiaCeL</td>\n",
              "      <td>Ethiopia</td>\n",
              "      <td>2005</td>\n",
              "      <td>R</td>\n",
              "      <td>0.0</td>\n",
              "      <td>0.000000</td>\n",
              "      <td>0.000110</td>\n",
              "      <td>0.000000</td>\n",
              "      <td>0.000018</td>\n",
              "      <td>0.999872</td>\n",
              "      <td>113.806716</td>\n",
              "      <td>64.136053</td>\n",
              "      <td>0.601427</td>\n",
              "      <td>0.000000</td>\n",
              "      <td>0.005427</td>\n",
              "      <td>0.000000</td>\n",
              "      <td>200.986978</td>\n",
              "      <td>337.135243</td>\n",
              "      <td>0.004898</td>\n",
              "    </tr>\n",
              "    <tr>\n",
              "      <th>2</th>\n",
              "      <td>ID_AAdurmKj</td>\n",
              "      <td>Mozambique</td>\n",
              "      <td>2009</td>\n",
              "      <td>R</td>\n",
              "      <td>0.0</td>\n",
              "      <td>0.000000</td>\n",
              "      <td>0.000000</td>\n",
              "      <td>0.000000</td>\n",
              "      <td>0.000000</td>\n",
              "      <td>1.000000</td>\n",
              "      <td>0.000000</td>\n",
              "      <td>4.400096</td>\n",
              "      <td>0.131900</td>\n",
              "      <td>0.000000</td>\n",
              "      <td>0.003078</td>\n",
              "      <td>0.000000</td>\n",
              "      <td>642.594208</td>\n",
              "      <td>169.913773</td>\n",
              "      <td>0.097320</td>\n",
              "    </tr>\n",
              "    <tr>\n",
              "      <th>3</th>\n",
              "      <td>ID_AAgNHles</td>\n",
              "      <td>Malawi</td>\n",
              "      <td>2015</td>\n",
              "      <td>R</td>\n",
              "      <td>0.0</td>\n",
              "      <td>0.000141</td>\n",
              "      <td>0.000181</td>\n",
              "      <td>0.000254</td>\n",
              "      <td>0.000228</td>\n",
              "      <td>0.999195</td>\n",
              "      <td>5.213320</td>\n",
              "      <td>25.379371</td>\n",
              "      <td>2.017136</td>\n",
              "      <td>11.293841</td>\n",
              "      <td>0.131035</td>\n",
              "      <td>0.000000</td>\n",
              "      <td>365.349451</td>\n",
              "      <td>613.591610</td>\n",
              "      <td>0.304107</td>\n",
              "    </tr>\n",
              "    <tr>\n",
              "      <th>4</th>\n",
              "      <td>ID_AAishfND</td>\n",
              "      <td>Guinea</td>\n",
              "      <td>2012</td>\n",
              "      <td>U</td>\n",
              "      <td>0.0</td>\n",
              "      <td>0.011649</td>\n",
              "      <td>0.017560</td>\n",
              "      <td>0.017383</td>\n",
              "      <td>0.099875</td>\n",
              "      <td>0.853533</td>\n",
              "      <td>31.734661</td>\n",
              "      <td>5.081620</td>\n",
              "      <td>22.815984</td>\n",
              "      <td>0.005047</td>\n",
              "      <td>0.130475</td>\n",
              "      <td>1.461894</td>\n",
              "      <td>222.867189</td>\n",
              "      <td>192.926363</td>\n",
              "      <td>0.605328</td>\n",
              "    </tr>\n",
              "  </tbody>\n",
              "</table>\n",
              "</div>"
            ],
            "text/plain": [
              "            ID     country  year urban_or_rural  ghsl_water_surface  \\\n",
              "0  ID_AAIethGy    Ethiopia  2016              R                 0.0   \n",
              "1  ID_AAYiaCeL    Ethiopia  2005              R                 0.0   \n",
              "2  ID_AAdurmKj  Mozambique  2009              R                 0.0   \n",
              "3  ID_AAgNHles      Malawi  2015              R                 0.0   \n",
              "4  ID_AAishfND      Guinea  2012              U                 0.0   \n",
              "\n",
              "   ghsl_built_pre_1975  ghsl_built_1975_to_1990  ghsl_built_1990_to_2000  \\\n",
              "0             0.000000                 0.000000                 0.000055   \n",
              "1             0.000000                 0.000110                 0.000000   \n",
              "2             0.000000                 0.000000                 0.000000   \n",
              "3             0.000141                 0.000181                 0.000254   \n",
              "4             0.011649                 0.017560                 0.017383   \n",
              "\n",
              "   ghsl_built_2000_to_2014  ghsl_not_built_up  ghsl_pop_density  \\\n",
              "0                 0.000536           0.999408         12.146134   \n",
              "1                 0.000018           0.999872        113.806716   \n",
              "2                 0.000000           1.000000          0.000000   \n",
              "3                 0.000228           0.999195          5.213320   \n",
              "4                 0.099875           0.853533         31.734661   \n",
              "\n",
              "   landcover_crops_fraction  landcover_urban_fraction  \\\n",
              "0                 25.489659                  0.879484   \n",
              "1                 64.136053                  0.601427   \n",
              "2                  4.400096                  0.131900   \n",
              "3                 25.379371                  2.017136   \n",
              "4                  5.081620                 22.815984   \n",
              "\n",
              "   landcover_water_permanent_10km_fraction  \\\n",
              "0                                 0.000000   \n",
              "1                                 0.000000   \n",
              "2                                 0.000000   \n",
              "3                                11.293841   \n",
              "4                                 0.005047   \n",
              "\n",
              "   landcover_water_seasonal_10km_fraction  nighttime_lights  dist_to_capital  \\\n",
              "0                                0.000000          0.000000       278.788451   \n",
              "1                                0.005427          0.000000       200.986978   \n",
              "2                                0.003078          0.000000       642.594208   \n",
              "3                                0.131035          0.000000       365.349451   \n",
              "4                                0.130475          1.461894       222.867189   \n",
              "\n",
              "   dist_to_shoreline    Target  \n",
              "0         769.338378  0.132783  \n",
              "1         337.135243  0.004898  \n",
              "2         169.913773  0.097320  \n",
              "3         613.591610  0.304107  \n",
              "4         192.926363  0.605328  "
            ]
          },
          "execution_count": 3,
          "metadata": {},
          "output_type": "execute_result"
        }
      ],
      "source": [
        "df_train.head()"
      ]
    },
    {
      "cell_type": "code",
      "execution_count": null,
      "id": "71455004",
      "metadata": {
        "id": "71455004",
        "outputId": "057c23cd-43b2-4c6e-a040-9f0b61aba195"
      },
      "outputs": [
        {
          "data": {
            "text/plain": [
              "(21454, 19)"
            ]
          },
          "execution_count": 4,
          "metadata": {},
          "output_type": "execute_result"
        }
      ],
      "source": [
        "df_train.shape"
      ]
    },
    {
      "cell_type": "code",
      "execution_count": null,
      "id": "ae9ac52f",
      "metadata": {
        "id": "ae9ac52f",
        "outputId": "8ef83ade-7f6b-4abe-cfd0-c0ba14e6bd7d"
      },
      "outputs": [
        {
          "data": {
            "text/plain": [
              "Index(['ID', 'country', 'year', 'urban_or_rural', 'ghsl_water_surface',\n",
              "       'ghsl_built_pre_1975', 'ghsl_built_1975_to_1990',\n",
              "       'ghsl_built_1990_to_2000', 'ghsl_built_2000_to_2014',\n",
              "       'ghsl_not_built_up', 'ghsl_pop_density', 'landcover_crops_fraction',\n",
              "       'landcover_urban_fraction', 'landcover_water_permanent_10km_fraction',\n",
              "       'landcover_water_seasonal_10km_fraction', 'nighttime_lights',\n",
              "       'dist_to_capital', 'dist_to_shoreline', 'Target'],\n",
              "      dtype='object')"
            ]
          },
          "execution_count": 5,
          "metadata": {},
          "output_type": "execute_result"
        }
      ],
      "source": [
        "df_train.columns"
      ]
    },
    {
      "cell_type": "code",
      "execution_count": null,
      "id": "55cd9003",
      "metadata": {
        "id": "55cd9003",
        "outputId": "344db89e-754b-4198-b15f-1e01fea8b337"
      },
      "outputs": [
        {
          "data": {
            "text/plain": [
              "ID                                         21454\n",
              "country                                    21454\n",
              "year                                       21454\n",
              "urban_or_rural                             21454\n",
              "ghsl_water_surface                         21454\n",
              "ghsl_built_pre_1975                        21454\n",
              "ghsl_built_1975_to_1990                    21454\n",
              "ghsl_built_1990_to_2000                    21454\n",
              "ghsl_built_2000_to_2014                    21454\n",
              "ghsl_not_built_up                          21454\n",
              "ghsl_pop_density                           21454\n",
              "landcover_crops_fraction                   21454\n",
              "landcover_urban_fraction                   21454\n",
              "landcover_water_permanent_10km_fraction    21454\n",
              "landcover_water_seasonal_10km_fraction     21454\n",
              "nighttime_lights                           21454\n",
              "dist_to_capital                            21454\n",
              "dist_to_shoreline                          21454\n",
              "Target                                     21454\n",
              "dtype: int64"
            ]
          },
          "execution_count": 6,
          "metadata": {},
          "output_type": "execute_result"
        }
      ],
      "source": [
        "df_train.count()"
      ]
    },
    {
      "cell_type": "code",
      "execution_count": null,
      "id": "d6ca7028",
      "metadata": {
        "id": "d6ca7028",
        "outputId": "7de70997-5726-4f33-9a66-1a075c8b167e"
      },
      "outputs": [
        {
          "name": "stdout",
          "output_type": "stream",
          "text": [
            "<class 'pandas.core.frame.DataFrame'>\n",
            "RangeIndex: 21454 entries, 0 to 21453\n",
            "Data columns (total 19 columns):\n",
            " #   Column                                   Non-Null Count  Dtype  \n",
            "---  ------                                   --------------  -----  \n",
            " 0   ID                                       21454 non-null  object \n",
            " 1   country                                  21454 non-null  object \n",
            " 2   year                                     21454 non-null  int64  \n",
            " 3   urban_or_rural                           21454 non-null  object \n",
            " 4   ghsl_water_surface                       21454 non-null  float64\n",
            " 5   ghsl_built_pre_1975                      21454 non-null  float64\n",
            " 6   ghsl_built_1975_to_1990                  21454 non-null  float64\n",
            " 7   ghsl_built_1990_to_2000                  21454 non-null  float64\n",
            " 8   ghsl_built_2000_to_2014                  21454 non-null  float64\n",
            " 9   ghsl_not_built_up                        21454 non-null  float64\n",
            " 10  ghsl_pop_density                         21454 non-null  float64\n",
            " 11  landcover_crops_fraction                 21454 non-null  float64\n",
            " 12  landcover_urban_fraction                 21454 non-null  float64\n",
            " 13  landcover_water_permanent_10km_fraction  21454 non-null  float64\n",
            " 14  landcover_water_seasonal_10km_fraction   21454 non-null  float64\n",
            " 15  nighttime_lights                         21454 non-null  float64\n",
            " 16  dist_to_capital                          21454 non-null  float64\n",
            " 17  dist_to_shoreline                        21454 non-null  float64\n",
            " 18  Target                                   21454 non-null  float64\n",
            "dtypes: float64(15), int64(1), object(3)\n",
            "memory usage: 3.1+ MB\n"
          ]
        }
      ],
      "source": [
        "df_train.info()"
      ]
    },
    {
      "cell_type": "code",
      "execution_count": null,
      "id": "60b7a3f1",
      "metadata": {
        "id": "60b7a3f1",
        "outputId": "325ec4ea-c799-40b6-e790-118cedea1674"
      },
      "outputs": [
        {
          "data": {
            "text/plain": [
              "array(['Ethiopia', 'Mozambique', 'Malawi', 'Guinea', 'Cameroon', 'Ghana',\n",
              "       'Senegal', 'Kenya', 'Tanzania', 'Mali', 'Swaziland', 'Rwanda',\n",
              "       'Nigeria', 'Lesotho', 'Sierra Leone', 'Central African Republic',\n",
              "       \"Cote d'Ivoire\", 'Togo'], dtype=object)"
            ]
          },
          "execution_count": 8,
          "metadata": {},
          "output_type": "execute_result"
        }
      ],
      "source": [
        "df_train['country'].unique()"
      ]
    },
    {
      "cell_type": "code",
      "execution_count": null,
      "id": "8f59b3f6",
      "metadata": {
        "id": "8f59b3f6",
        "outputId": "000342b9-1387-4a12-bad3-3c2374c0a3f9"
      },
      "outputs": [
        {
          "data": {
            "text/plain": [
              "array(['R', 'U'], dtype=object)"
            ]
          },
          "execution_count": 9,
          "metadata": {},
          "output_type": "execute_result"
        }
      ],
      "source": [
        "df_train['urban_or_rural'].unique()"
      ]
    },
    {
      "cell_type": "code",
      "execution_count": null,
      "id": "dc68d18a",
      "metadata": {
        "id": "dc68d18a",
        "outputId": "c06c669b-932a-4a8e-f872-811fc5d81a9a"
      },
      "outputs": [
        {
          "data": {
            "text/plain": [
              "<AxesSubplot:title={'center':'Target'}, xlabel='urban_or_rural'>"
            ]
          },
          "execution_count": 10,
          "metadata": {},
          "output_type": "execute_result"
        },
        {
          "data": {
            "image/png": "[encoded data removed]",
            "text/plain": [
              "<Figure size 864x576 with 1 Axes>"
            ]
          },
          "metadata": {
            "needs_background": "light"
          },
          "output_type": "display_data"
        }
      ],
      "source": [
        "#wealth distrubution\n",
        "df_train.boxplot(by='urban_or_rural', column='Target', figsize=(12, 8))"
      ]
    },
    {
      "cell_type": "code",
      "execution_count": null,
      "id": "dd30625a",
      "metadata": {
        "id": "dd30625a",
        "outputId": "1e3e8fcc-cdb6-413b-c612-aa329f813f82"
      },
      "outputs": [
        {
          "data": {
            "text/plain": [
              "6177812.939921763"
            ]
          },
          "execution_count": 18,
          "metadata": {},
          "output_type": "execute_result"
        }
      ],
      "source": [
        "df_train['dist_to_capital'].unique().sum()"
      ]
    },
    {
      "cell_type": "code",
      "execution_count": null,
      "id": "f9687904",
      "metadata": {
        "id": "f9687904",
        "outputId": "1e8d8bdb-9574-431b-ed7e-f146ee0b8e46"
      },
      "outputs": [
        {
          "data": {
            "text/plain": [
              "(21454,)"
            ]
          },
          "execution_count": 36,
          "metadata": {},
          "output_type": "execute_result"
        }
      ],
      "source": [
        "df['year'].shape"
      ]
    },
    {
      "cell_type": "code",
      "execution_count": null,
      "id": "f78a9549",
      "metadata": {
        "id": "f78a9549"
      },
      "outputs": [],
      "source": [
        ""
      ]
    },
    {
      "cell_type": "code",
      "execution_count": null,
      "id": "9db43949",
      "metadata": {
        "id": "9db43949",
        "outputId": "84ee7167-ea42-4054-bb37-b17334e80049"
      },
      "outputs": [
        {
          "data": {
            "text/plain": [
              "array([2016, 2005, 2009, 2015, 2012, 2004, 2014, 2010, 2011, 1998, 2006,\n",
              "       2008, 2003, 2007, 2013, 1994, 1996, 1999, 1995])"
            ]
          },
          "execution_count": 37,
          "metadata": {},
          "output_type": "execute_result"
        }
      ],
      "source": [
        "df['year'].unique()"
      ]
    },
    {
      "cell_type": "code",
      "execution_count": null,
      "id": "c31ec71a",
      "metadata": {
        "id": "c31ec71a",
        "outputId": "1a0d0a08-425b-43f6-c3e4-de1ef4687374"
      },
      "outputs": [
        {
          "data": {
            "text/plain": [
              "<AxesSubplot:ylabel='dist_to_capital'>"
            ]
          },
          "execution_count": 19,
          "metadata": {},
          "output_type": "execute_result"
        },
        {
          "data": {
            "image/png": "[encoded data removed]",
            "text/plain": [
              "<Figure size 864x576 with 1 Axes>"
            ]
          },
          "metadata": {},
          "output_type": "display_data"
        }
      ],
      "source": [
        "#checking how distance to capital is distrubuted with time\n",
        "df_train.groupby(['year']).sum().plot(kind='pie', y='dist_to_capital', figsize=(12,8))"
      ]
    },
    {
      "cell_type": "code",
      "execution_count": null,
      "id": "2ac307c7",
      "metadata": {
        "id": "2ac307c7"
      },
      "outputs": [],
      "source": [
        "#encoding\n",
        "s = (df_train.dtypes == 'object')\n",
        "object_cols = list(s[s].index)"
      ]
    },
    {
      "cell_type": "code",
      "execution_count": null,
      "id": "ea356f81",
      "metadata": {
        "id": "ea356f81"
      },
      "outputs": [],
      "source": [
        "from sklearn.preprocessing import OrdinalEncoder\n",
        "ordinal_encoder = OrdinalEncoder()\n",
        "df_train[object_cols] = ordinal_encoder.fit_transform(df_train[object_cols])"
      ]
    },
    {
      "cell_type": "code",
      "execution_count": null,
      "id": "64a7a0d4",
      "metadata": {
        "id": "64a7a0d4",
        "outputId": "bd9c2681-80f0-426f-d877-0e155477ac9a"
      },
      "outputs": [
        {
          "name": "stdout",
          "output_type": "stream",
          "text": [
            "<class 'pandas.core.frame.DataFrame'>\n",
            "RangeIndex: 21454 entries, 0 to 21453\n",
            "Data columns (total 19 columns):\n",
            " #   Column                                   Non-Null Count  Dtype  \n",
            "---  ------                                   --------------  -----  \n",
            " 0   ID                                       21454 non-null  float64\n",
            " 1   country                                  21454 non-null  float64\n",
            " 2   year                                     21454 non-null  int64  \n",
            " 3   urban_or_rural                           21454 non-null  float64\n",
            " 4   ghsl_water_surface                       21454 non-null  float64\n",
            " 5   ghsl_built_pre_1975                      21454 non-null  float64\n",
            " 6   ghsl_built_1975_to_1990                  21454 non-null  float64\n",
            " 7   ghsl_built_1990_to_2000                  21454 non-null  float64\n",
            " 8   ghsl_built_2000_to_2014                  21454 non-null  float64\n",
            " 9   ghsl_not_built_up                        21454 non-null  float64\n",
            " 10  ghsl_pop_density                         21454 non-null  float64\n",
            " 11  landcover_crops_fraction                 21454 non-null  float64\n",
            " 12  landcover_urban_fraction                 21454 non-null  float64\n",
            " 13  landcover_water_permanent_10km_fraction  21454 non-null  float64\n",
            " 14  landcover_water_seasonal_10km_fraction   21454 non-null  float64\n",
            " 15  nighttime_lights                         21454 non-null  float64\n",
            " 16  dist_to_capital                          21454 non-null  float64\n",
            " 17  dist_to_shoreline                        21454 non-null  float64\n",
            " 18  Target                                   21454 non-null  float64\n",
            "dtypes: float64(18), int64(1)\n",
            "memory usage: 3.1 MB\n"
          ]
        }
      ],
      "source": [
        "df_train.info()"
      ]
    },
    {
      "cell_type": "code",
      "execution_count": null,
      "id": "220314dd",
      "metadata": {
        "id": "220314dd"
      },
      "outputs": [],
      "source": [
        ""
      ]
    },
    {
      "cell_type": "code",
      "execution_count": null,
      "id": "81313ce7",
      "metadata": {
        "id": "81313ce7",
        "outputId": "3883d6da-388a-4425-df95-af53f7705b48"
      },
      "outputs": [
        {
          "data": {
            "text/plain": [
              "Target                                     1.000000\n",
              "urban_or_rural                             0.678187\n",
              "landcover_urban_fraction                   0.666768\n",
              "nighttime_lights                           0.550703\n",
              "ghsl_pop_density                           0.525206\n",
              "ghsl_built_1975_to_1990                    0.500753\n",
              "ghsl_built_pre_1975                        0.450119\n",
              "ghsl_built_2000_to_2014                    0.429262\n",
              "ghsl_built_1990_to_2000                    0.425059\n",
              "ghsl_water_surface                         0.182816\n",
              "year                                       0.115014\n",
              "landcover_water_seasonal_10km_fraction     0.066462\n",
              "landcover_water_permanent_10km_fraction    0.017210\n",
              "country                                   -0.014091\n",
              "ID                                        -0.015615\n",
              "dist_to_capital                           -0.235850\n",
              "landcover_crops_fraction                  -0.253550\n",
              "dist_to_shoreline                         -0.321828\n",
              "ghsl_not_built_up                         -0.580670\n",
              "Name: Target, dtype: float64"
            ]
          },
          "execution_count": 37,
          "metadata": {},
          "output_type": "execute_result"
        }
      ],
      "source": [
        "#Correlation\n",
        "corr_test = df_train.copy()\n",
        "correlation_matrix = corr_test.corr()\n",
        "correlation_matrix['Target'].sort_values(ascending=False)"
      ]
    },
    {
      "cell_type": "markdown",
      "id": "b95e8d6b",
      "metadata": {
        "id": "b95e8d6b"
      },
      "source": [
        ""
      ]
    },
    {
      "cell_type": "code",
      "execution_count": null,
      "id": "42f89b73",
      "metadata": {
        "id": "42f89b73"
      },
      "outputs": [],
      "source": [
        "y = df_train['Target']\n",
        "X = df_train.drop('Target', axis=1)"
      ]
    },
    {
      "cell_type": "code",
      "execution_count": null,
      "id": "9384ca2c",
      "metadata": {
        "id": "9384ca2c",
        "outputId": "481f4e6a-4bb3-4018-f405-c39b480ce027"
      },
      "outputs": [
        {
          "name": "stdout",
          "output_type": "stream",
          "text": [
            "(17163, 18) (4291, 18)\n"
          ]
        }
      ],
      "source": [
        "from sklearn.model_selection import train_test_split\n",
        "\n",
        "X_train, X_test, y_train, y_test = train_test_split(X, y, test_size=0.2, random_state=58) # Random state keeps the split consistent\n",
        "print(X_train.shape, X_test.shape)"
      ]
    },
    {
      "cell_type": "code",
      "execution_count": null,
      "id": "c395ea21",
      "metadata": {
        "id": "c395ea21",
        "outputId": "8dc91469-7d2d-4836-cb24-3747f9112952"
      },
      "outputs": [
        {
          "data": {
            "text/plain": [
              "0.7835777002771557"
            ]
          },
          "execution_count": 54,
          "metadata": {},
          "output_type": "execute_result"
        }
      ],
      "source": [
        "from sklearn.ensemble import RandomForestRegressor\n",
        "\n",
        "model = RandomForestRegressor()\n",
        "model.fit(X_train, y_train) \n",
        "model.score(X_test, y_test)"
      ]
    },
    {
      "cell_type": "code",
      "execution_count": null,
      "id": "aec2b569",
      "metadata": {
        "id": "aec2b569",
        "outputId": "73fd36d7-f3f9-4d7d-e516-b44bf686d6a3"
      },
      "outputs": [
        {
          "name": "stdout",
          "output_type": "stream",
          "text": [
            "0.06638547475141816\n"
          ]
        }
      ],
      "source": [
        "from sklearn.metrics import mean_absolute_error\n",
        "preds = model.predict(X_test)\n",
        "print(mean_absolute_error(y_test, preds))"
      ]
    },
    {
      "cell_type": "code",
      "execution_count": null,
      "id": "b949c709",
      "metadata": {
        "id": "b949c709",
        "outputId": "6b3e39be-0d7d-4e0a-e269-d95d70c25048"
      },
      "outputs": [
        {
          "data": {
            "text/plain": [
              "0.6049042674410532"
            ]
          },
          "execution_count": 56,
          "metadata": {},
          "output_type": "execute_result"
        }
      ],
      "source": [
        "from sklearn.tree import DecisionTreeRegressor\n",
        "model=DecisionTreeRegressor()\n",
        "model.fit(X_train, y_train)\n",
        "model.score(X_test, y_test)"
      ]
    },
    {
      "cell_type": "code",
      "execution_count": null,
      "id": "4545f359",
      "metadata": {
        "id": "4545f359",
        "outputId": "9d60c910-aa1d-4b23-ef87-f512670629f7"
      },
      "outputs": [
        {
          "name": "stdout",
          "output_type": "stream",
          "text": [
            "0.08893839084688916\n"
          ]
        }
      ],
      "source": [
        "prediction = model.predict(X_test)\n",
        "print(mean_absolute_error(y_test, prediction))"
      ]
    },
    {
      "cell_type": "code",
      "execution_count": null,
      "id": "8652931c",
      "metadata": {
        "id": "8652931c",
        "outputId": "0383d02d-dd9f-4281-b0fe-c1e921e9b5d3"
      },
      "outputs": [
        {
          "data": {
            "text/html": [
              "<div>\n",
              "<style scoped>\n",
              "    .dataframe tbody tr th:only-of-type {\n",
              "        vertical-align: middle;\n",
              "    }\n",
              "\n",
              "    .dataframe tbody tr th {\n",
              "        vertical-align: top;\n",
              "    }\n",
              "\n",
              "    .dataframe thead th {\n",
              "        text-align: right;\n",
              "    }\n",
              "</style>\n",
              "<table border=\"1\" class=\"dataframe\">\n",
              "  <thead>\n",
              "    <tr style=\"text-align: right;\">\n",
              "      <th></th>\n",
              "      <th>ID</th>\n",
              "      <th>country</th>\n",
              "      <th>year</th>\n",
              "      <th>urban_or_rural</th>\n",
              "      <th>ghsl_water_surface</th>\n",
              "      <th>ghsl_built_pre_1975</th>\n",
              "      <th>ghsl_built_1975_to_1990</th>\n",
              "      <th>ghsl_built_1990_to_2000</th>\n",
              "      <th>ghsl_built_2000_to_2014</th>\n",
              "      <th>ghsl_not_built_up</th>\n",
              "      <th>ghsl_pop_density</th>\n",
              "      <th>landcover_crops_fraction</th>\n",
              "      <th>landcover_urban_fraction</th>\n",
              "      <th>landcover_water_permanent_10km_fraction</th>\n",
              "      <th>landcover_water_seasonal_10km_fraction</th>\n",
              "      <th>nighttime_lights</th>\n",
              "      <th>dist_to_capital</th>\n",
              "      <th>dist_to_shoreline</th>\n",
              "    </tr>\n",
              "  </thead>\n",
              "  <tbody>\n",
              "    <tr>\n",
              "      <th>0</th>\n",
              "      <td>ID_AAcismbB</td>\n",
              "      <td>Democratic Republic of Congo</td>\n",
              "      <td>2007</td>\n",
              "      <td>R</td>\n",
              "      <td>0.000000</td>\n",
              "      <td>0.000000</td>\n",
              "      <td>0.000000</td>\n",
              "      <td>0.000523</td>\n",
              "      <td>0.000131</td>\n",
              "      <td>0.999347</td>\n",
              "      <td>0.660758</td>\n",
              "      <td>0.990942</td>\n",
              "      <td>0.132264</td>\n",
              "      <td>0.069055</td>\n",
              "      <td>0.032627</td>\n",
              "      <td>0.000000</td>\n",
              "      <td>1249.294720</td>\n",
              "      <td>1364.592100</td>\n",
              "    </tr>\n",
              "    <tr>\n",
              "      <th>1</th>\n",
              "      <td>ID_AAeBMsji</td>\n",
              "      <td>Democratic Republic of Congo</td>\n",
              "      <td>2007</td>\n",
              "      <td>U</td>\n",
              "      <td>0.000000</td>\n",
              "      <td>0.004239</td>\n",
              "      <td>0.000238</td>\n",
              "      <td>0.001227</td>\n",
              "      <td>0.002860</td>\n",
              "      <td>0.991437</td>\n",
              "      <td>6.441547</td>\n",
              "      <td>5.461365</td>\n",
              "      <td>0.452400</td>\n",
              "      <td>0.000000</td>\n",
              "      <td>0.000000</td>\n",
              "      <td>0.000000</td>\n",
              "      <td>821.019579</td>\n",
              "      <td>1046.028681</td>\n",
              "    </tr>\n",
              "    <tr>\n",
              "      <th>2</th>\n",
              "      <td>ID_AAjFMjzy</td>\n",
              "      <td>Uganda</td>\n",
              "      <td>2011</td>\n",
              "      <td>U</td>\n",
              "      <td>0.007359</td>\n",
              "      <td>0.525682</td>\n",
              "      <td>0.132795</td>\n",
              "      <td>0.095416</td>\n",
              "      <td>0.042375</td>\n",
              "      <td>0.196373</td>\n",
              "      <td>587.516458</td>\n",
              "      <td>2.881811</td>\n",
              "      <td>87.387991</td>\n",
              "      <td>3.248483</td>\n",
              "      <td>3.950374</td>\n",
              "      <td>60.070041</td>\n",
              "      <td>3.620455</td>\n",
              "      <td>906.057334</td>\n",
              "    </tr>\n",
              "    <tr>\n",
              "      <th>3</th>\n",
              "      <td>ID_AAmMOEEC</td>\n",
              "      <td>Burkina Faso</td>\n",
              "      <td>2010</td>\n",
              "      <td>U</td>\n",
              "      <td>0.000000</td>\n",
              "      <td>0.000089</td>\n",
              "      <td>0.000036</td>\n",
              "      <td>0.001519</td>\n",
              "      <td>0.001358</td>\n",
              "      <td>0.996997</td>\n",
              "      <td>35.141762</td>\n",
              "      <td>33.878927</td>\n",
              "      <td>4.166437</td>\n",
              "      <td>0.000000</td>\n",
              "      <td>0.130727</td>\n",
              "      <td>1.333999</td>\n",
              "      <td>109.493969</td>\n",
              "      <td>775.139189</td>\n",
              "    </tr>\n",
              "    <tr>\n",
              "      <th>4</th>\n",
              "      <td>ID_ABguzDxp</td>\n",
              "      <td>Zambia</td>\n",
              "      <td>2007</td>\n",
              "      <td>R</td>\n",
              "      <td>0.000000</td>\n",
              "      <td>0.000138</td>\n",
              "      <td>0.000623</td>\n",
              "      <td>0.000615</td>\n",
              "      <td>0.002961</td>\n",
              "      <td>0.995663</td>\n",
              "      <td>3.442449</td>\n",
              "      <td>33.491994</td>\n",
              "      <td>3.437129</td>\n",
              "      <td>0.133563</td>\n",
              "      <td>0.128997</td>\n",
              "      <td>0.502203</td>\n",
              "      <td>133.643319</td>\n",
              "      <td>835.591501</td>\n",
              "    </tr>\n",
              "    <tr>\n",
              "      <th>...</th>\n",
              "      <td>...</td>\n",
              "      <td>...</td>\n",
              "      <td>...</td>\n",
              "      <td>...</td>\n",
              "      <td>...</td>\n",
              "      <td>...</td>\n",
              "      <td>...</td>\n",
              "      <td>...</td>\n",
              "      <td>...</td>\n",
              "      <td>...</td>\n",
              "      <td>...</td>\n",
              "      <td>...</td>\n",
              "      <td>...</td>\n",
              "      <td>...</td>\n",
              "      <td>...</td>\n",
              "      <td>...</td>\n",
              "      <td>...</td>\n",
              "      <td>...</td>\n",
              "    </tr>\n",
              "    <tr>\n",
              "      <th>7189</th>\n",
              "      <td>ID_zxzKJCMI</td>\n",
              "      <td>Zimbabwe</td>\n",
              "      <td>2010</td>\n",
              "      <td>R</td>\n",
              "      <td>0.000000</td>\n",
              "      <td>0.000000</td>\n",
              "      <td>0.000000</td>\n",
              "      <td>0.000016</td>\n",
              "      <td>0.000131</td>\n",
              "      <td>0.999853</td>\n",
              "      <td>0.304446</td>\n",
              "      <td>32.263180</td>\n",
              "      <td>0.658724</td>\n",
              "      <td>0.000000</td>\n",
              "      <td>0.077742</td>\n",
              "      <td>0.103892</td>\n",
              "      <td>500.988790</td>\n",
              "      <td>703.139988</td>\n",
              "    </tr>\n",
              "    <tr>\n",
              "      <th>7190</th>\n",
              "      <td>ID_zyBrpgRp</td>\n",
              "      <td>Uganda</td>\n",
              "      <td>2011</td>\n",
              "      <td>U</td>\n",
              "      <td>0.000000</td>\n",
              "      <td>0.000056</td>\n",
              "      <td>0.000883</td>\n",
              "      <td>0.003861</td>\n",
              "      <td>0.002483</td>\n",
              "      <td>0.992717</td>\n",
              "      <td>36.160182</td>\n",
              "      <td>27.520555</td>\n",
              "      <td>3.615442</td>\n",
              "      <td>0.000000</td>\n",
              "      <td>0.001157</td>\n",
              "      <td>0.000000</td>\n",
              "      <td>159.587852</td>\n",
              "      <td>1000.194893</td>\n",
              "    </tr>\n",
              "    <tr>\n",
              "      <th>7191</th>\n",
              "      <td>ID_zyMafcYq</td>\n",
              "      <td>Burkina Faso</td>\n",
              "      <td>2010</td>\n",
              "      <td>U</td>\n",
              "      <td>0.002683</td>\n",
              "      <td>0.000268</td>\n",
              "      <td>0.002800</td>\n",
              "      <td>0.009322</td>\n",
              "      <td>0.042527</td>\n",
              "      <td>0.942399</td>\n",
              "      <td>46.127465</td>\n",
              "      <td>35.674511</td>\n",
              "      <td>12.705561</td>\n",
              "      <td>0.001129</td>\n",
              "      <td>0.723252</td>\n",
              "      <td>4.734974</td>\n",
              "      <td>33.775441</td>\n",
              "      <td>781.833777</td>\n",
              "    </tr>\n",
              "    <tr>\n",
              "      <th>7192</th>\n",
              "      <td>ID_zyfMsHMG</td>\n",
              "      <td>Zimbabwe</td>\n",
              "      <td>2011</td>\n",
              "      <td>R</td>\n",
              "      <td>0.000332</td>\n",
              "      <td>0.000000</td>\n",
              "      <td>0.000017</td>\n",
              "      <td>0.000000</td>\n",
              "      <td>0.000100</td>\n",
              "      <td>0.999551</td>\n",
              "      <td>0.309696</td>\n",
              "      <td>18.050789</td>\n",
              "      <td>0.030514</td>\n",
              "      <td>0.033177</td>\n",
              "      <td>0.222629</td>\n",
              "      <td>0.175123</td>\n",
              "      <td>320.974153</td>\n",
              "      <td>605.920204</td>\n",
              "    </tr>\n",
              "    <tr>\n",
              "      <th>7193</th>\n",
              "      <td>ID_zytUOqJv</td>\n",
              "      <td>Democratic Republic of Congo</td>\n",
              "      <td>2007</td>\n",
              "      <td>U</td>\n",
              "      <td>0.076950</td>\n",
              "      <td>0.128367</td>\n",
              "      <td>0.000000</td>\n",
              "      <td>0.041799</td>\n",
              "      <td>0.139710</td>\n",
              "      <td>0.613173</td>\n",
              "      <td>162.182887</td>\n",
              "      <td>3.917284</td>\n",
              "      <td>36.528453</td>\n",
              "      <td>4.499446</td>\n",
              "      <td>0.647506</td>\n",
              "      <td>4.224699</td>\n",
              "      <td>1186.131373</td>\n",
              "      <td>1456.101058</td>\n",
              "    </tr>\n",
              "  </tbody>\n",
              "</table>\n",
              "<p>7194 rows × 18 columns</p>\n",
              "</div>"
            ],
            "text/plain": [
              "               ID                       country  year urban_or_rural  \\\n",
              "0     ID_AAcismbB  Democratic Republic of Congo  2007              R   \n",
              "1     ID_AAeBMsji  Democratic Republic of Congo  2007              U   \n",
              "2     ID_AAjFMjzy                        Uganda  2011              U   \n",
              "3     ID_AAmMOEEC                  Burkina Faso  2010              U   \n",
              "4     ID_ABguzDxp                        Zambia  2007              R   \n",
              "...           ...                           ...   ...            ...   \n",
              "7189  ID_zxzKJCMI                      Zimbabwe  2010              R   \n",
              "7190  ID_zyBrpgRp                        Uganda  2011              U   \n",
              "7191  ID_zyMafcYq                  Burkina Faso  2010              U   \n",
              "7192  ID_zyfMsHMG                      Zimbabwe  2011              R   \n",
              "7193  ID_zytUOqJv  Democratic Republic of Congo  2007              U   \n",
              "\n",
              "      ghsl_water_surface  ghsl_built_pre_1975  ghsl_built_1975_to_1990  \\\n",
              "0               0.000000             0.000000                 0.000000   \n",
              "1               0.000000             0.004239                 0.000238   \n",
              "2               0.007359             0.525682                 0.132795   \n",
              "3               0.000000             0.000089                 0.000036   \n",
              "4               0.000000             0.000138                 0.000623   \n",
              "...                  ...                  ...                      ...   \n",
              "7189            0.000000             0.000000                 0.000000   \n",
              "7190            0.000000             0.000056                 0.000883   \n",
              "7191            0.002683             0.000268                 0.002800   \n",
              "7192            0.000332             0.000000                 0.000017   \n",
              "7193            0.076950             0.128367                 0.000000   \n",
              "\n",
              "      ghsl_built_1990_to_2000  ghsl_built_2000_to_2014  ghsl_not_built_up  \\\n",
              "0                    0.000523                 0.000131           0.999347   \n",
              "1                    0.001227                 0.002860           0.991437   \n",
              "2                    0.095416                 0.042375           0.196373   \n",
              "3                    0.001519                 0.001358           0.996997   \n",
              "4                    0.000615                 0.002961           0.995663   \n",
              "...                       ...                      ...                ...   \n",
              "7189                 0.000016                 0.000131           0.999853   \n",
              "7190                 0.003861                 0.002483           0.992717   \n",
              "7191                 0.009322                 0.042527           0.942399   \n",
              "7192                 0.000000                 0.000100           0.999551   \n",
              "7193                 0.041799                 0.139710           0.613173   \n",
              "\n",
              "      ghsl_pop_density  landcover_crops_fraction  landcover_urban_fraction  \\\n",
              "0             0.660758                  0.990942                  0.132264   \n",
              "1             6.441547                  5.461365                  0.452400   \n",
              "2           587.516458                  2.881811                 87.387991   \n",
              "3            35.141762                 33.878927                  4.166437   \n",
              "4             3.442449                 33.491994                  3.437129   \n",
              "...                ...                       ...                       ...   \n",
              "7189          0.304446                 32.263180                  0.658724   \n",
              "7190         36.160182                 27.520555                  3.615442   \n",
              "7191         46.127465                 35.674511                 12.705561   \n",
              "7192          0.309696                 18.050789                  0.030514   \n",
              "7193        162.182887                  3.917284                 36.528453   \n",
              "\n",
              "      landcover_water_permanent_10km_fraction  \\\n",
              "0                                    0.069055   \n",
              "1                                    0.000000   \n",
              "2                                    3.248483   \n",
              "3                                    0.000000   \n",
              "4                                    0.133563   \n",
              "...                                       ...   \n",
              "7189                                 0.000000   \n",
              "7190                                 0.000000   \n",
              "7191                                 0.001129   \n",
              "7192                                 0.033177   \n",
              "7193                                 4.499446   \n",
              "\n",
              "      landcover_water_seasonal_10km_fraction  nighttime_lights  \\\n",
              "0                                   0.032627          0.000000   \n",
              "1                                   0.000000          0.000000   \n",
              "2                                   3.950374         60.070041   \n",
              "3                                   0.130727          1.333999   \n",
              "4                                   0.128997          0.502203   \n",
              "...                                      ...               ...   \n",
              "7189                                0.077742          0.103892   \n",
              "7190                                0.001157          0.000000   \n",
              "7191                                0.723252          4.734974   \n",
              "7192                                0.222629          0.175123   \n",
              "7193                                0.647506          4.224699   \n",
              "\n",
              "      dist_to_capital  dist_to_shoreline  \n",
              "0         1249.294720        1364.592100  \n",
              "1          821.019579        1046.028681  \n",
              "2            3.620455         906.057334  \n",
              "3          109.493969         775.139189  \n",
              "4          133.643319         835.591501  \n",
              "...               ...                ...  \n",
              "7189       500.988790         703.139988  \n",
              "7190       159.587852        1000.194893  \n",
              "7191        33.775441         781.833777  \n",
              "7192       320.974153         605.920204  \n",
              "7193      1186.131373        1456.101058  \n",
              "\n",
              "[7194 rows x 18 columns]"
            ]
          },
          "execution_count": 59,
          "metadata": {},
          "output_type": "execute_result"
        }
      ],
      "source": [
        "#using Decision Tree Regressor on the test data set\n",
        "test"
      ]
    },
    {
      "cell_type": "code",
      "execution_count": null,
      "id": "761e16c9",
      "metadata": {
        "id": "761e16c9"
      },
      "outputs": [],
      "source": [
        "#encoding\n",
        "s = (test.dtypes == 'object')\n",
        "object_cols = list(s[s].index)\n",
        "\n",
        "\n",
        "ordinal_encoder = OrdinalEncoder()\n",
        "test[object_cols] = ordinal_encoder.fit_transform(test[object_cols])"
      ]
    },
    {
      "cell_type": "code",
      "execution_count": null,
      "id": "ed3c92ba",
      "metadata": {
        "id": "ed3c92ba",
        "outputId": "ec4f8f2b-6934-4c27-ac99-d078eab83d7c"
      },
      "outputs": [
        {
          "data": {
            "text/plain": [
              "array([0.01709283, 0.12924204, 0.38406746, ..., 0.92965583, 0.2748275 ,\n",
              "       0.43966808])"
            ]
          },
          "execution_count": 61,
          "metadata": {},
          "output_type": "execute_result"
        }
      ],
      "source": [
        "p_test = model.predict(test)"
      ]
    },
    {
      "cell_type": "code",
      "execution_count": null,
      "id": "40babb77",
      "metadata": {
        "id": "40babb77"
      },
      "outputs": [],
      "source": [
        ""
      ]
    }
  ],
  "metadata": {
    "kernelspec": {
      "display_name": "Python 3",
      "language": "python",
      "name": "python3"
    },
    "language_info": {
      "codemirror_mode": {
        "name": "ipython",
        "version": 3
      },
      "file_extension": ".py",
      "mimetype": "text/x-python",
      "name": "python",
      "nbconvert_exporter": "python",
      "pygments_lexer": "ipython3",
      "version": "3.8.8"
    },
    "colab": {
      "name": "UmojaHack.ipynb",
      "provenance": [],
      "include_colab_link": true
    }
  },
  "nbformat": 4,
  "nbformat_minor": 5
}